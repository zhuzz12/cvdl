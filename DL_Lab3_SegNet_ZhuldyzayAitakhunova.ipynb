{
  "nbformat": 4,
  "nbformat_minor": 0,
  "metadata": {
    "colab": {
      "provenance": [],
      "include_colab_link": true
    },
    "kernelspec": {
      "name": "python3",
      "display_name": "Python 3"
    },
    "language_info": {
      "name": "python"
    },
    "accelerator": "GPU"
  },
  "cells": [
    {
      "cell_type": "markdown",
      "metadata": {
        "id": "view-in-github",
        "colab_type": "text"
      },
      "source": [
        "<a href=\"https://colab.research.google.com/github/zhuzz12/cvdl/blob/main/DL_Lab3_SegNet_ZhuldyzayAitakhunova.ipynb\" target=\"_parent\"><img src=\"https://colab.research.google.com/assets/colab-badge.svg\" alt=\"Open In Colab\"/></a>"
      ]
    },
    {
      "cell_type": "code",
      "metadata": {
        "id": "AijEvV9x8Cdo"
      },
      "source": [
        "import numpy as np\n",
        "import matplotlib.pyplot as plt\n",
        "import cv2\n",
        "import pandas as pd\n",
        "\n",
        "\n",
        "from sklearn.model_selection import train_test_split\n"
      ],
      "execution_count": null,
      "outputs": []
    },
    {
      "cell_type": "code",
      "metadata": {
        "colab": {
          "base_uri": "https://localhost:8080/"
        },
        "id": "u6IIpLCU8Cyf",
        "outputId": "5b5fe0b8-0b78-4b29-bba9-1a961e0daaad"
      },
      "source": [
        "from google.colab import drive\n",
        "drive.mount('/content/drive')"
      ],
      "execution_count": null,
      "outputs": [
        {
          "output_type": "stream",
          "name": "stdout",
          "text": [
            "Drive already mounted at /content/drive; to attempt to forcibly remount, call drive.mount(\"/content/drive\", force_remount=True).\n"
          ]
        }
      ]
    },
    {
      "cell_type": "code",
      "metadata": {
        "id": "c7cnkmpo8TM7"
      },
      "source": [
        "path = '/content/drive/MyDrive/'"
      ],
      "execution_count": null,
      "outputs": []
    },
    {
      "cell_type": "code",
      "metadata": {
        "id": "7qTrGTQXL7p1"
      },
      "source": [
        "import os "
      ],
      "execution_count": null,
      "outputs": []
    },
    {
      "cell_type": "code",
      "metadata": {
        "id": "B5Q_fNQPHU3Q"
      },
      "source": [
        "directory = '/content/drive/MyDrive/DL/fish'\n",
        "train_files = []\n",
        "target_files = []\n",
        "fish_types = 'Black Sea Sprat'\n",
        "for file in os.listdir(os.path.join(directory, fish_types)):\n",
        "    train_files.append(os.path.join(directory, 'Black Sea Sprat', file))\n",
        "    target_files.append(os.path.join(directory,  'Black Sea Sprat GT', file))"
      ],
      "execution_count": null,
      "outputs": []
    },
    {
      "cell_type": "code",
      "metadata": {
        "colab": {
          "base_uri": "https://localhost:8080/",
          "height": 206
        },
        "id": "x_lioPVbHU8W",
        "outputId": "4df770cc-b3fa-49f4-8ce2-f6e7353683b2"
      },
      "source": [
        "df = pd.DataFrame({'img' : train_files, 'mask' : target_files})\n",
        "df.head()"
      ],
      "execution_count": null,
      "outputs": [
        {
          "output_type": "execute_result",
          "data": {
            "text/plain": [
              "                                                 img  \\\n",
              "0  /content/drive/MyDrive/DL/fish/Black Sea Sprat...   \n",
              "1  /content/drive/MyDrive/DL/fish/Black Sea Sprat...   \n",
              "2  /content/drive/MyDrive/DL/fish/Black Sea Sprat...   \n",
              "3  /content/drive/MyDrive/DL/fish/Black Sea Sprat...   \n",
              "4  /content/drive/MyDrive/DL/fish/Black Sea Sprat...   \n",
              "\n",
              "                                                mask  \n",
              "0  /content/drive/MyDrive/DL/fish/Black Sea Sprat...  \n",
              "1  /content/drive/MyDrive/DL/fish/Black Sea Sprat...  \n",
              "2  /content/drive/MyDrive/DL/fish/Black Sea Sprat...  \n",
              "3  /content/drive/MyDrive/DL/fish/Black Sea Sprat...  \n",
              "4  /content/drive/MyDrive/DL/fish/Black Sea Sprat...  "
            ],
            "text/html": [
              "\n",
              "  <div id=\"df-865ce13d-8364-4fba-9c88-707dc8e469c5\">\n",
              "    <div class=\"colab-df-container\">\n",
              "      <div>\n",
              "<style scoped>\n",
              "    .dataframe tbody tr th:only-of-type {\n",
              "        vertical-align: middle;\n",
              "    }\n",
              "\n",
              "    .dataframe tbody tr th {\n",
              "        vertical-align: top;\n",
              "    }\n",
              "\n",
              "    .dataframe thead th {\n",
              "        text-align: right;\n",
              "    }\n",
              "</style>\n",
              "<table border=\"1\" class=\"dataframe\">\n",
              "  <thead>\n",
              "    <tr style=\"text-align: right;\">\n",
              "      <th></th>\n",
              "      <th>img</th>\n",
              "      <th>mask</th>\n",
              "    </tr>\n",
              "  </thead>\n",
              "  <tbody>\n",
              "    <tr>\n",
              "      <th>0</th>\n",
              "      <td>/content/drive/MyDrive/DL/fish/Black Sea Sprat...</td>\n",
              "      <td>/content/drive/MyDrive/DL/fish/Black Sea Sprat...</td>\n",
              "    </tr>\n",
              "    <tr>\n",
              "      <th>1</th>\n",
              "      <td>/content/drive/MyDrive/DL/fish/Black Sea Sprat...</td>\n",
              "      <td>/content/drive/MyDrive/DL/fish/Black Sea Sprat...</td>\n",
              "    </tr>\n",
              "    <tr>\n",
              "      <th>2</th>\n",
              "      <td>/content/drive/MyDrive/DL/fish/Black Sea Sprat...</td>\n",
              "      <td>/content/drive/MyDrive/DL/fish/Black Sea Sprat...</td>\n",
              "    </tr>\n",
              "    <tr>\n",
              "      <th>3</th>\n",
              "      <td>/content/drive/MyDrive/DL/fish/Black Sea Sprat...</td>\n",
              "      <td>/content/drive/MyDrive/DL/fish/Black Sea Sprat...</td>\n",
              "    </tr>\n",
              "    <tr>\n",
              "      <th>4</th>\n",
              "      <td>/content/drive/MyDrive/DL/fish/Black Sea Sprat...</td>\n",
              "      <td>/content/drive/MyDrive/DL/fish/Black Sea Sprat...</td>\n",
              "    </tr>\n",
              "  </tbody>\n",
              "</table>\n",
              "</div>\n",
              "      <button class=\"colab-df-convert\" onclick=\"convertToInteractive('df-865ce13d-8364-4fba-9c88-707dc8e469c5')\"\n",
              "              title=\"Convert this dataframe to an interactive table.\"\n",
              "              style=\"display:none;\">\n",
              "        \n",
              "  <svg xmlns=\"http://www.w3.org/2000/svg\" height=\"24px\"viewBox=\"0 0 24 24\"\n",
              "       width=\"24px\">\n",
              "    <path d=\"M0 0h24v24H0V0z\" fill=\"none\"/>\n",
              "    <path d=\"M18.56 5.44l.94 2.06.94-2.06 2.06-.94-2.06-.94-.94-2.06-.94 2.06-2.06.94zm-11 1L8.5 8.5l.94-2.06 2.06-.94-2.06-.94L8.5 2.5l-.94 2.06-2.06.94zm10 10l.94 2.06.94-2.06 2.06-.94-2.06-.94-.94-2.06-.94 2.06-2.06.94z\"/><path d=\"M17.41 7.96l-1.37-1.37c-.4-.4-.92-.59-1.43-.59-.52 0-1.04.2-1.43.59L10.3 9.45l-7.72 7.72c-.78.78-.78 2.05 0 2.83L4 21.41c.39.39.9.59 1.41.59.51 0 1.02-.2 1.41-.59l7.78-7.78 2.81-2.81c.8-.78.8-2.07 0-2.86zM5.41 20L4 18.59l7.72-7.72 1.47 1.35L5.41 20z\"/>\n",
              "  </svg>\n",
              "      </button>\n",
              "      \n",
              "  <style>\n",
              "    .colab-df-container {\n",
              "      display:flex;\n",
              "      flex-wrap:wrap;\n",
              "      gap: 12px;\n",
              "    }\n",
              "\n",
              "    .colab-df-convert {\n",
              "      background-color: #E8F0FE;\n",
              "      border: none;\n",
              "      border-radius: 50%;\n",
              "      cursor: pointer;\n",
              "      display: none;\n",
              "      fill: #1967D2;\n",
              "      height: 32px;\n",
              "      padding: 0 0 0 0;\n",
              "      width: 32px;\n",
              "    }\n",
              "\n",
              "    .colab-df-convert:hover {\n",
              "      background-color: #E2EBFA;\n",
              "      box-shadow: 0px 1px 2px rgba(60, 64, 67, 0.3), 0px 1px 3px 1px rgba(60, 64, 67, 0.15);\n",
              "      fill: #174EA6;\n",
              "    }\n",
              "\n",
              "    [theme=dark] .colab-df-convert {\n",
              "      background-color: #3B4455;\n",
              "      fill: #D2E3FC;\n",
              "    }\n",
              "\n",
              "    [theme=dark] .colab-df-convert:hover {\n",
              "      background-color: #434B5C;\n",
              "      box-shadow: 0px 1px 3px 1px rgba(0, 0, 0, 0.15);\n",
              "      filter: drop-shadow(0px 1px 2px rgba(0, 0, 0, 0.3));\n",
              "      fill: #FFFFFF;\n",
              "    }\n",
              "  </style>\n",
              "\n",
              "      <script>\n",
              "        const buttonEl =\n",
              "          document.querySelector('#df-865ce13d-8364-4fba-9c88-707dc8e469c5 button.colab-df-convert');\n",
              "        buttonEl.style.display =\n",
              "          google.colab.kernel.accessAllowed ? 'block' : 'none';\n",
              "\n",
              "        async function convertToInteractive(key) {\n",
              "          const element = document.querySelector('#df-865ce13d-8364-4fba-9c88-707dc8e469c5');\n",
              "          const dataTable =\n",
              "            await google.colab.kernel.invokeFunction('convertToInteractive',\n",
              "                                                     [key], {});\n",
              "          if (!dataTable) return;\n",
              "\n",
              "          const docLinkHtml = 'Like what you see? Visit the ' +\n",
              "            '<a target=\"_blank\" href=https://colab.research.google.com/notebooks/data_table.ipynb>data table notebook</a>'\n",
              "            + ' to learn more about interactive tables.';\n",
              "          element.innerHTML = '';\n",
              "          dataTable['output_type'] = 'display_data';\n",
              "          await google.colab.output.renderOutput(dataTable, element);\n",
              "          const docLink = document.createElement('div');\n",
              "          docLink.innerHTML = docLinkHtml;\n",
              "          element.appendChild(docLink);\n",
              "        }\n",
              "      </script>\n",
              "    </div>\n",
              "  </div>\n",
              "  "
            ]
          },
          "metadata": {},
          "execution_count": 137
        }
      ]
    },
    {
      "cell_type": "code",
      "metadata": {
        "id": "tObGho77Iotq"
      },
      "source": [
        "df1 = pd.DataFrame()"
      ],
      "execution_count": null,
      "outputs": []
    },
    {
      "cell_type": "code",
      "metadata": {
        "id": "SZPIDMWcMTtC"
      },
      "source": [
        "from tqdm import tqdm"
      ],
      "execution_count": null,
      "outputs": []
    },
    {
      "cell_type": "code",
      "metadata": {
        "colab": {
          "base_uri": "https://localhost:8080/",
          "height": 36
        },
        "id": "pfiOAl1ZMhCn",
        "outputId": "1549b971-44e0-43b0-e835-ec4730c370a5"
      },
      "source": [
        "(df['img'][0])"
      ],
      "execution_count": null,
      "outputs": [
        {
          "output_type": "execute_result",
          "data": {
            "text/plain": [
              "'/content/drive/MyDrive/DL/fish/Black Sea Sprat/00001.png'"
            ],
            "application/vnd.google.colaboratory.intrinsic+json": {
              "type": "string"
            }
          },
          "metadata": {},
          "execution_count": 140
        }
      ]
    },
    {
      "cell_type": "code",
      "metadata": {
        "colab": {
          "base_uri": "https://localhost:8080/"
        },
        "id": "27UhVr0-HVCv",
        "outputId": "1d2f8eb2-ecd6-40b7-e257-5b9815155b80"
      },
      "source": [
        "img = []\n",
        "for ind in tqdm(range(len(df['img']))):\n",
        "    origImage = cv2.imread(df['img'][ind])\n",
        "    #origImage = cv2.cvtColor(origImage, cv2.COLOR_BGR2GRAY, )\n",
        "    img.append(origImage)\n",
        "df1['img'] = img"
      ],
      "execution_count": null,
      "outputs": [
        {
          "output_type": "stream",
          "name": "stderr",
          "text": [
            "100%|██████████| 1000/1000 [00:12<00:00, 82.31it/s]\n"
          ]
        }
      ]
    },
    {
      "cell_type": "code",
      "metadata": {
        "colab": {
          "base_uri": "https://localhost:8080/",
          "height": 36
        },
        "id": "qp0qxreXdGxu",
        "outputId": "e2cb50f3-d038-47e3-ea56-d4e0b74bc211"
      },
      "source": [
        "(df['mask'][0])"
      ],
      "execution_count": null,
      "outputs": [
        {
          "output_type": "execute_result",
          "data": {
            "text/plain": [
              "'/content/drive/MyDrive/DL/fish/Black Sea Sprat GT/00001.png'"
            ],
            "application/vnd.google.colaboratory.intrinsic+json": {
              "type": "string"
            }
          },
          "metadata": {},
          "execution_count": 142
        }
      ]
    },
    {
      "cell_type": "code",
      "metadata": {
        "colab": {
          "base_uri": "https://localhost:8080/"
        },
        "id": "wnfMKC_0IH0Y",
        "outputId": "9880648b-3338-41d2-fcdc-2eb5eaff0fb4"
      },
      "source": [
        "mask = []\n",
        "for ind in tqdm(range(len(df['mask']))):\n",
        "    origImage = cv2.imread(df['mask'][ind])\n",
        "    #print(origImage)\n",
        "    origImage = cv2.cvtColor(origImage, cv2.COLOR_BGR2GRAY, )\n",
        "    origImage = (origImage ) \n",
        "    mask.append(origImage**2)\n",
        "df1['mask'] = mask"
      ],
      "execution_count": null,
      "outputs": [
        {
          "output_type": "stream",
          "name": "stderr",
          "text": [
            "100%|██████████| 1000/1000 [00:03<00:00, 322.03it/s]\n"
          ]
        }
      ]
    },
    {
      "cell_type": "code",
      "source": [
        "df1.head()"
      ],
      "metadata": {
        "colab": {
          "base_uri": "https://localhost:8080/",
          "height": 206
        },
        "id": "ly98tuz9Ayg_",
        "outputId": "54163ea4-ab1c-4f49-aa03-70eaa79325a4"
      },
      "execution_count": null,
      "outputs": [
        {
          "output_type": "execute_result",
          "data": {
            "text/plain": [
              "                                                 img  \\\n",
              "0  [[[0, 0, 0], [0, 0, 0], [0, 0, 0], [0, 0, 0], ...   \n",
              "1  [[[0, 0, 0], [0, 0, 0], [0, 0, 0], [0, 0, 0], ...   \n",
              "2  [[[0, 0, 0], [0, 0, 0], [0, 0, 0], [0, 0, 0], ...   \n",
              "3  [[[0, 0, 0], [0, 0, 0], [0, 0, 0], [0, 0, 0], ...   \n",
              "4  [[[0, 0, 0], [0, 0, 0], [0, 0, 0], [0, 0, 0], ...   \n",
              "\n",
              "                                                mask  \n",
              "0  [[0, 0, 0, 0, 0, 0, 0, 0, 0, 0, 0, 0, 0, 0, 0,...  \n",
              "1  [[0, 0, 0, 0, 0, 0, 0, 0, 0, 0, 0, 0, 0, 0, 0,...  \n",
              "2  [[0, 0, 0, 0, 0, 0, 0, 0, 0, 0, 0, 0, 0, 0, 0,...  \n",
              "3  [[0, 0, 0, 0, 0, 0, 0, 0, 0, 0, 0, 0, 0, 0, 0,...  \n",
              "4  [[0, 0, 0, 0, 0, 0, 0, 0, 0, 0, 0, 0, 0, 0, 0,...  "
            ],
            "text/html": [
              "\n",
              "  <div id=\"df-00167c5d-82de-4dcf-966c-cd9a410496a2\">\n",
              "    <div class=\"colab-df-container\">\n",
              "      <div>\n",
              "<style scoped>\n",
              "    .dataframe tbody tr th:only-of-type {\n",
              "        vertical-align: middle;\n",
              "    }\n",
              "\n",
              "    .dataframe tbody tr th {\n",
              "        vertical-align: top;\n",
              "    }\n",
              "\n",
              "    .dataframe thead th {\n",
              "        text-align: right;\n",
              "    }\n",
              "</style>\n",
              "<table border=\"1\" class=\"dataframe\">\n",
              "  <thead>\n",
              "    <tr style=\"text-align: right;\">\n",
              "      <th></th>\n",
              "      <th>img</th>\n",
              "      <th>mask</th>\n",
              "    </tr>\n",
              "  </thead>\n",
              "  <tbody>\n",
              "    <tr>\n",
              "      <th>0</th>\n",
              "      <td>[[[0, 0, 0], [0, 0, 0], [0, 0, 0], [0, 0, 0], ...</td>\n",
              "      <td>[[0, 0, 0, 0, 0, 0, 0, 0, 0, 0, 0, 0, 0, 0, 0,...</td>\n",
              "    </tr>\n",
              "    <tr>\n",
              "      <th>1</th>\n",
              "      <td>[[[0, 0, 0], [0, 0, 0], [0, 0, 0], [0, 0, 0], ...</td>\n",
              "      <td>[[0, 0, 0, 0, 0, 0, 0, 0, 0, 0, 0, 0, 0, 0, 0,...</td>\n",
              "    </tr>\n",
              "    <tr>\n",
              "      <th>2</th>\n",
              "      <td>[[[0, 0, 0], [0, 0, 0], [0, 0, 0], [0, 0, 0], ...</td>\n",
              "      <td>[[0, 0, 0, 0, 0, 0, 0, 0, 0, 0, 0, 0, 0, 0, 0,...</td>\n",
              "    </tr>\n",
              "    <tr>\n",
              "      <th>3</th>\n",
              "      <td>[[[0, 0, 0], [0, 0, 0], [0, 0, 0], [0, 0, 0], ...</td>\n",
              "      <td>[[0, 0, 0, 0, 0, 0, 0, 0, 0, 0, 0, 0, 0, 0, 0,...</td>\n",
              "    </tr>\n",
              "    <tr>\n",
              "      <th>4</th>\n",
              "      <td>[[[0, 0, 0], [0, 0, 0], [0, 0, 0], [0, 0, 0], ...</td>\n",
              "      <td>[[0, 0, 0, 0, 0, 0, 0, 0, 0, 0, 0, 0, 0, 0, 0,...</td>\n",
              "    </tr>\n",
              "  </tbody>\n",
              "</table>\n",
              "</div>\n",
              "      <button class=\"colab-df-convert\" onclick=\"convertToInteractive('df-00167c5d-82de-4dcf-966c-cd9a410496a2')\"\n",
              "              title=\"Convert this dataframe to an interactive table.\"\n",
              "              style=\"display:none;\">\n",
              "        \n",
              "  <svg xmlns=\"http://www.w3.org/2000/svg\" height=\"24px\"viewBox=\"0 0 24 24\"\n",
              "       width=\"24px\">\n",
              "    <path d=\"M0 0h24v24H0V0z\" fill=\"none\"/>\n",
              "    <path d=\"M18.56 5.44l.94 2.06.94-2.06 2.06-.94-2.06-.94-.94-2.06-.94 2.06-2.06.94zm-11 1L8.5 8.5l.94-2.06 2.06-.94-2.06-.94L8.5 2.5l-.94 2.06-2.06.94zm10 10l.94 2.06.94-2.06 2.06-.94-2.06-.94-.94-2.06-.94 2.06-2.06.94z\"/><path d=\"M17.41 7.96l-1.37-1.37c-.4-.4-.92-.59-1.43-.59-.52 0-1.04.2-1.43.59L10.3 9.45l-7.72 7.72c-.78.78-.78 2.05 0 2.83L4 21.41c.39.39.9.59 1.41.59.51 0 1.02-.2 1.41-.59l7.78-7.78 2.81-2.81c.8-.78.8-2.07 0-2.86zM5.41 20L4 18.59l7.72-7.72 1.47 1.35L5.41 20z\"/>\n",
              "  </svg>\n",
              "      </button>\n",
              "      \n",
              "  <style>\n",
              "    .colab-df-container {\n",
              "      display:flex;\n",
              "      flex-wrap:wrap;\n",
              "      gap: 12px;\n",
              "    }\n",
              "\n",
              "    .colab-df-convert {\n",
              "      background-color: #E8F0FE;\n",
              "      border: none;\n",
              "      border-radius: 50%;\n",
              "      cursor: pointer;\n",
              "      display: none;\n",
              "      fill: #1967D2;\n",
              "      height: 32px;\n",
              "      padding: 0 0 0 0;\n",
              "      width: 32px;\n",
              "    }\n",
              "\n",
              "    .colab-df-convert:hover {\n",
              "      background-color: #E2EBFA;\n",
              "      box-shadow: 0px 1px 2px rgba(60, 64, 67, 0.3), 0px 1px 3px 1px rgba(60, 64, 67, 0.15);\n",
              "      fill: #174EA6;\n",
              "    }\n",
              "\n",
              "    [theme=dark] .colab-df-convert {\n",
              "      background-color: #3B4455;\n",
              "      fill: #D2E3FC;\n",
              "    }\n",
              "\n",
              "    [theme=dark] .colab-df-convert:hover {\n",
              "      background-color: #434B5C;\n",
              "      box-shadow: 0px 1px 3px 1px rgba(0, 0, 0, 0.15);\n",
              "      filter: drop-shadow(0px 1px 2px rgba(0, 0, 0, 0.3));\n",
              "      fill: #FFFFFF;\n",
              "    }\n",
              "  </style>\n",
              "\n",
              "      <script>\n",
              "        const buttonEl =\n",
              "          document.querySelector('#df-00167c5d-82de-4dcf-966c-cd9a410496a2 button.colab-df-convert');\n",
              "        buttonEl.style.display =\n",
              "          google.colab.kernel.accessAllowed ? 'block' : 'none';\n",
              "\n",
              "        async function convertToInteractive(key) {\n",
              "          const element = document.querySelector('#df-00167c5d-82de-4dcf-966c-cd9a410496a2');\n",
              "          const dataTable =\n",
              "            await google.colab.kernel.invokeFunction('convertToInteractive',\n",
              "                                                     [key], {});\n",
              "          if (!dataTable) return;\n",
              "\n",
              "          const docLinkHtml = 'Like what you see? Visit the ' +\n",
              "            '<a target=\"_blank\" href=https://colab.research.google.com/notebooks/data_table.ipynb>data table notebook</a>'\n",
              "            + ' to learn more about interactive tables.';\n",
              "          element.innerHTML = '';\n",
              "          dataTable['output_type'] = 'display_data';\n",
              "          await google.colab.output.renderOutput(dataTable, element);\n",
              "          const docLink = document.createElement('div');\n",
              "          docLink.innerHTML = docLinkHtml;\n",
              "          element.appendChild(docLink);\n",
              "        }\n",
              "      </script>\n",
              "    </div>\n",
              "  </div>\n",
              "  "
            ]
          },
          "metadata": {},
          "execution_count": 144
        }
      ]
    },
    {
      "cell_type": "code",
      "metadata": {
        "id": "zOSkyLJXALE2"
      },
      "source": [
        "def keras_generator(gen_df, batch_size):\n",
        "    while True:\n",
        "        x_batch = []\n",
        "        y_batch = []\n",
        "        \n",
        "        for i in range(batch_size):\n",
        "            img, mask = gen_df.sample(1).values[0]\n",
        "            \n",
        "            img = cv2.resize(img, (256, 256))\n",
        "            mask = cv2.resize(mask, (256, 256))\n",
        "            mask =( mask > 0) **2\n",
        "            \n",
        "            x_batch += [img]\n",
        "            y_batch += [mask]\n",
        "\n",
        "        x_batch = np.array(x_batch) / 255.\n",
        "        y_batch = np.array(y_batch)\n",
        "\n",
        "        yield x_batch, np.expand_dims(y_batch, -1)"
      ],
      "execution_count": null,
      "outputs": []
    },
    {
      "cell_type": "code",
      "metadata": {
        "id": "6Msy22Kf_RMN"
      },
      "source": [
        "for x, y in keras_generator(df1, 16):\n",
        "    break"
      ],
      "execution_count": null,
      "outputs": []
    },
    {
      "cell_type": "code",
      "metadata": {
        "id": "H9AQdPOiAH9i",
        "colab": {
          "base_uri": "https://localhost:8080/"
        },
        "outputId": "6a5200a5-20dd-4587-fba5-68381b3df106"
      },
      "source": [
        "x.shape"
      ],
      "execution_count": null,
      "outputs": [
        {
          "output_type": "execute_result",
          "data": {
            "text/plain": [
              "(16, 256, 256, 3)"
            ]
          },
          "metadata": {},
          "execution_count": 147
        }
      ]
    },
    {
      "cell_type": "code",
      "metadata": {
        "id": "XvaL9FbeBV5c"
      },
      "source": [
        "import keras\n",
        "from keras.applications.vgg16 import VGG16\n",
        "from keras.models import Model\n",
        "from keras.layers import Dense, GlobalAveragePooling2D, Dropout, UpSampling2D, Conv2D, MaxPooling2D, Activation\n",
        "from keras.layers import Input, Dense\n",
        "\n",
        "inp = Input(shape=(256, 256, 3))\n",
        "\n",
        "conv_1_1 = Conv2D(32, (3, 3), padding='same')(inp)\n",
        "conv_1_1 = Activation('relu')(conv_1_1)\n",
        "\n",
        "conv_1_2 = Conv2D(32, (3, 3), padding='same')(conv_1_1)\n",
        "conv_1_2 = Activation('relu')(conv_1_2)\n",
        "\n",
        "pool_1 = MaxPooling2D(2)(conv_1_2)\n",
        "\n",
        "\n",
        "conv_2_1 = Conv2D(64, (3, 3), padding='same')(pool_1)\n",
        "conv_2_1 = Activation('relu')(conv_2_1)\n",
        "\n",
        "conv_2_2 = Conv2D(64, (3, 3), padding='same')(conv_2_1)\n",
        "conv_2_2 = Activation('relu')(conv_2_2)\n",
        "\n",
        "pool_2 = MaxPooling2D(2)(conv_2_2)\n",
        "\n",
        "\n",
        "conv_3_1 = Conv2D(128, (3, 3), padding='same')(pool_2)\n",
        "conv_3_1 = Activation('relu')(conv_3_1)\n",
        "\n",
        "conv_3_2 = Conv2D(128, (3, 3), padding='same')(conv_3_1)\n",
        "conv_3_2 = Activation('relu')(conv_3_2)\n",
        "\n",
        "pool_3 = MaxPooling2D(2)(conv_3_2)\n",
        "\n",
        "\n",
        "conv_4_1 = Conv2D(256, (3, 3), padding='same')(pool_3)\n",
        "conv_4_1 = Activation('relu')(conv_4_1)\n",
        "\n",
        "conv_4_2 = Conv2D(256, (3, 3), padding='same')(conv_4_1)\n",
        "conv_4_2 = Activation('relu')(conv_4_2)\n",
        "\n",
        "pool_4 = MaxPooling2D(2)(conv_4_2)\n",
        "\n",
        "up_1 = UpSampling2D(2, interpolation='bilinear')(pool_4)\n",
        "conv_up_1_1 = Conv2D(256, (3, 3), padding='same')(up_1)\n",
        "conv_up_1_1 = Activation('relu')(conv_up_1_1)\n",
        "\n",
        "conv_up_1_2 = Conv2D(256, (3, 3), padding='same')(conv_up_1_1)\n",
        "conv_up_1_2 = Activation('relu')(conv_up_1_2)\n",
        "\n",
        "\n",
        "up_2 = UpSampling2D(2, interpolation='bilinear')(conv_up_1_2)\n",
        "conv_up_2_1 = Conv2D(128, (3, 3), padding='same')(up_2)\n",
        "conv_up_2_1 = Activation('relu')(conv_up_2_1)\n",
        "\n",
        "conv_up_2_2 = Conv2D(128, (3, 3), padding='same')(conv_up_2_1)\n",
        "conv_up_2_2 = Activation('relu')(conv_up_2_2)\n",
        "\n",
        "\n",
        "up_3 = UpSampling2D(2, interpolation='bilinear')(conv_up_2_2)\n",
        "conv_up_3_1 = Conv2D(64, (3, 3), padding='same')(up_3)\n",
        "conv_up_3_1 = Activation('relu')(conv_up_3_1)\n",
        "\n",
        "conv_up_3_2 = Conv2D(64, (3, 3), padding='same')(conv_up_3_1)\n",
        "conv_up_3_2 = Activation('relu')(conv_up_3_2)\n",
        "\n",
        "\n",
        "\n",
        "up_4 = UpSampling2D(2, interpolation='bilinear')(conv_up_3_2)\n",
        "conv_up_4_1 = Conv2D(32, (3, 3), padding='same')(up_4)\n",
        "conv_up_4_1 = Activation('relu')(conv_up_4_1)\n",
        "\n",
        "conv_up_4_2 = Conv2D(1, (3, 3), padding='same')(conv_up_4_1)\n",
        "result = Activation('sigmoid')(conv_up_4_2)\n",
        "\n",
        "\n",
        "model = Model(inputs=inp, outputs=result)"
      ],
      "execution_count": null,
      "outputs": []
    },
    {
      "cell_type": "code",
      "source": [
        "model.summary()"
      ],
      "metadata": {
        "colab": {
          "base_uri": "https://localhost:8080/"
        },
        "id": "4OG4Umn-CIiA",
        "outputId": "a7646efa-8da9-49c4-d608-6fb3cc156276"
      },
      "execution_count": null,
      "outputs": [
        {
          "output_type": "stream",
          "name": "stdout",
          "text": [
            "Model: \"model_4\"\n",
            "_________________________________________________________________\n",
            " Layer (type)                Output Shape              Param #   \n",
            "=================================================================\n",
            " input_5 (InputLayer)        [(None, 256, 256, 3)]     0         \n",
            "                                                                 \n",
            " conv2d_64 (Conv2D)          (None, 256, 256, 32)      896       \n",
            "                                                                 \n",
            " activation_64 (Activation)  (None, 256, 256, 32)      0         \n",
            "                                                                 \n",
            " conv2d_65 (Conv2D)          (None, 256, 256, 32)      9248      \n",
            "                                                                 \n",
            " activation_65 (Activation)  (None, 256, 256, 32)      0         \n",
            "                                                                 \n",
            " max_pooling2d_16 (MaxPoolin  (None, 128, 128, 32)     0         \n",
            " g2D)                                                            \n",
            "                                                                 \n",
            " conv2d_66 (Conv2D)          (None, 128, 128, 64)      18496     \n",
            "                                                                 \n",
            " activation_66 (Activation)  (None, 128, 128, 64)      0         \n",
            "                                                                 \n",
            " conv2d_67 (Conv2D)          (None, 128, 128, 64)      36928     \n",
            "                                                                 \n",
            " activation_67 (Activation)  (None, 128, 128, 64)      0         \n",
            "                                                                 \n",
            " max_pooling2d_17 (MaxPoolin  (None, 64, 64, 64)       0         \n",
            " g2D)                                                            \n",
            "                                                                 \n",
            " conv2d_68 (Conv2D)          (None, 64, 64, 128)       73856     \n",
            "                                                                 \n",
            " activation_68 (Activation)  (None, 64, 64, 128)       0         \n",
            "                                                                 \n",
            " conv2d_69 (Conv2D)          (None, 64, 64, 128)       147584    \n",
            "                                                                 \n",
            " activation_69 (Activation)  (None, 64, 64, 128)       0         \n",
            "                                                                 \n",
            " max_pooling2d_18 (MaxPoolin  (None, 32, 32, 128)      0         \n",
            " g2D)                                                            \n",
            "                                                                 \n",
            " conv2d_70 (Conv2D)          (None, 32, 32, 256)       295168    \n",
            "                                                                 \n",
            " activation_70 (Activation)  (None, 32, 32, 256)       0         \n",
            "                                                                 \n",
            " conv2d_71 (Conv2D)          (None, 32, 32, 256)       590080    \n",
            "                                                                 \n",
            " activation_71 (Activation)  (None, 32, 32, 256)       0         \n",
            "                                                                 \n",
            " max_pooling2d_19 (MaxPoolin  (None, 16, 16, 256)      0         \n",
            " g2D)                                                            \n",
            "                                                                 \n",
            " up_sampling2d_16 (UpSamplin  (None, 32, 32, 256)      0         \n",
            " g2D)                                                            \n",
            "                                                                 \n",
            " conv2d_72 (Conv2D)          (None, 32, 32, 256)       590080    \n",
            "                                                                 \n",
            " activation_72 (Activation)  (None, 32, 32, 256)       0         \n",
            "                                                                 \n",
            " conv2d_73 (Conv2D)          (None, 32, 32, 256)       590080    \n",
            "                                                                 \n",
            " activation_73 (Activation)  (None, 32, 32, 256)       0         \n",
            "                                                                 \n",
            " up_sampling2d_17 (UpSamplin  (None, 64, 64, 256)      0         \n",
            " g2D)                                                            \n",
            "                                                                 \n",
            " conv2d_74 (Conv2D)          (None, 64, 64, 128)       295040    \n",
            "                                                                 \n",
            " activation_74 (Activation)  (None, 64, 64, 128)       0         \n",
            "                                                                 \n",
            " conv2d_75 (Conv2D)          (None, 64, 64, 128)       147584    \n",
            "                                                                 \n",
            " activation_75 (Activation)  (None, 64, 64, 128)       0         \n",
            "                                                                 \n",
            " up_sampling2d_18 (UpSamplin  (None, 128, 128, 128)    0         \n",
            " g2D)                                                            \n",
            "                                                                 \n",
            " conv2d_76 (Conv2D)          (None, 128, 128, 64)      73792     \n",
            "                                                                 \n",
            " activation_76 (Activation)  (None, 128, 128, 64)      0         \n",
            "                                                                 \n",
            " conv2d_77 (Conv2D)          (None, 128, 128, 64)      36928     \n",
            "                                                                 \n",
            " activation_77 (Activation)  (None, 128, 128, 64)      0         \n",
            "                                                                 \n",
            " up_sampling2d_19 (UpSamplin  (None, 256, 256, 64)     0         \n",
            " g2D)                                                            \n",
            "                                                                 \n",
            " conv2d_78 (Conv2D)          (None, 256, 256, 32)      18464     \n",
            "                                                                 \n",
            " activation_78 (Activation)  (None, 256, 256, 32)      0         \n",
            "                                                                 \n",
            " conv2d_79 (Conv2D)          (None, 256, 256, 1)       289       \n",
            "                                                                 \n",
            " activation_79 (Activation)  (None, 256, 256, 1)       0         \n",
            "                                                                 \n",
            "=================================================================\n",
            "Total params: 2,924,513\n",
            "Trainable params: 2,924,513\n",
            "Non-trainable params: 0\n",
            "_________________________________________________________________\n"
          ]
        }
      ]
    },
    {
      "cell_type": "code",
      "metadata": {
        "id": "SP7yCMIrCWTr"
      },
      "source": [
        "from tensorflow import keras"
      ],
      "execution_count": null,
      "outputs": []
    },
    {
      "cell_type": "code",
      "metadata": {
        "id": "O9yuaOMOBbST",
        "colab": {
          "base_uri": "https://localhost:8080/"
        },
        "outputId": "4d0d9cdd-521b-4317-a46a-c7a6cb428dc0"
      },
      "source": [
        "best_w = keras.callbacks.ModelCheckpoint('fcn_best.h5',\n",
        "                                monitor='val_loss',\n",
        "                                verbose=0,\n",
        "                                save_best_only=True,\n",
        "                                save_weights_only=True,\n",
        "                                mode='auto',\n",
        "                                period=1)\n",
        "\n",
        "last_w = keras.callbacks.ModelCheckpoint('fcn_last.h5',\n",
        "                                monitor='val_loss',\n",
        "                                verbose=0,\n",
        "                                save_best_only=False,\n",
        "                                save_weights_only=True,\n",
        "                                mode='auto',\n",
        "                                period=1)\n",
        "\n",
        "\n",
        "callbacks = [best_w, last_w]\n",
        "\n",
        "\n",
        "\n",
        "adam = keras.optimizers.Adam(lr=0.0001, beta_1=0.9, beta_2=0.999, epsilon=1e-08, decay=0.0)\n",
        "\n",
        "\n",
        "model.compile(adam, 'binary_crossentropy')"
      ],
      "execution_count": null,
      "outputs": [
        {
          "output_type": "stream",
          "name": "stderr",
          "text": [
            "WARNING:tensorflow:`period` argument is deprecated. Please use `save_freq` to specify the frequency in number of batches seen.\n",
            "WARNING:tensorflow:`period` argument is deprecated. Please use `save_freq` to specify the frequency in number of batches seen.\n",
            "/usr/local/lib/python3.7/dist-packages/keras/optimizer_v2/adam.py:105: UserWarning: The `lr` argument is deprecated, use `learning_rate` instead.\n",
            "  super(Adam, self).__init__(name, **kwargs)\n"
          ]
        }
      ]
    },
    {
      "cell_type": "code",
      "source": [
        "df_train, df_val = train_test_split(df1, test_size=0.2, random_state=12)\n"
      ],
      "metadata": {
        "id": "hnr8vUG-OApl"
      },
      "execution_count": null,
      "outputs": []
    },
    {
      "cell_type": "code",
      "metadata": {
        "id": "NcxwDuEyDGHs"
      },
      "source": [
        "#df_train = df1"
      ],
      "execution_count": null,
      "outputs": []
    },
    {
      "cell_type": "code",
      "metadata": {
        "id": "Oi7I3MhQDKpZ",
        "colab": {
          "base_uri": "https://localhost:8080/"
        },
        "outputId": "c0bab292-9803-4b48-f3af-cd0c739b029d"
      },
      "source": [
        "df_train.shape"
      ],
      "execution_count": null,
      "outputs": [
        {
          "output_type": "execute_result",
          "data": {
            "text/plain": [
              "(800, 2)"
            ]
          },
          "metadata": {},
          "execution_count": 156
        }
      ]
    },
    {
      "cell_type": "code",
      "metadata": {
        "id": "OSHf5wfVDMFf",
        "colab": {
          "base_uri": "https://localhost:8080/"
        },
        "outputId": "dd86236a-4cae-46f4-8e91-9f8e056b1908"
      },
      "source": [
        "df_val.shape"
      ],
      "execution_count": null,
      "outputs": [
        {
          "output_type": "execute_result",
          "data": {
            "text/plain": [
              "(200, 2)"
            ]
          },
          "metadata": {},
          "execution_count": 157
        }
      ]
    },
    {
      "cell_type": "code",
      "metadata": {
        "id": "J0aHYpZgCK0C",
        "colab": {
          "base_uri": "https://localhost:8080/"
        },
        "outputId": "ee429977-56b8-418c-ece2-6ed50b805b75"
      },
      "source": [
        "batch_size = 16\n",
        "history = model.fit(keras_generator(df_train, batch_size),\n",
        "              steps_per_epoch=100,\n",
        "              epochs=5,\n",
        "              verbose=1,\n",
        "              callbacks=callbacks,\n",
        "              validation_data=keras_generator(df_val, batch_size),\n",
        "              validation_steps=50,\n",
        "              class_weight=None,\n",
        "              max_queue_size=10,\n",
        "              workers=1,\n",
        "              use_multiprocessing=False,\n",
        "              shuffle=True,\n",
        "              initial_epoch=0)"
      ],
      "execution_count": null,
      "outputs": [
        {
          "output_type": "stream",
          "name": "stdout",
          "text": [
            "Epoch 1/5\n",
            "100/100 [==============================] - 28s 267ms/step - loss: 0.2954 - val_loss: 0.1190\n",
            "Epoch 2/5\n",
            "100/100 [==============================] - 27s 274ms/step - loss: 0.0935 - val_loss: 0.0568\n",
            "Epoch 3/5\n",
            "100/100 [==============================] - 27s 274ms/step - loss: 0.0612 - val_loss: 0.0542\n",
            "Epoch 4/5\n",
            "100/100 [==============================] - 27s 275ms/step - loss: 0.0562 - val_loss: 0.0443\n",
            "Epoch 5/5\n",
            "100/100 [==============================] - 27s 272ms/step - loss: 0.0516 - val_loss: 0.0575\n"
          ]
        }
      ]
    },
    {
      "cell_type": "code",
      "metadata": {
        "id": "3efeEUgVD2L1"
      },
      "source": [
        "img_test = []\n",
        "mask_test = []\n",
        "for img, mask in keras_generator(df_val, df_val.shape[0]):\n",
        "    img_test = img\n",
        "    mask_test = mask\n",
        "    break\n",
        "\n",
        "pred = model.predict(img_test)"
      ],
      "execution_count": null,
      "outputs": []
    },
    {
      "cell_type": "code",
      "metadata": {
        "id": "EaetdHmpT6jx",
        "colab": {
          "base_uri": "https://localhost:8080/",
          "height": 298
        },
        "outputId": "e3c43fc4-22ff-47ae-9a5e-69bf3b16cf34"
      },
      "source": [
        "im_id = 2\n",
        "fig, axes = plt.subplots(nrows=1, ncols=3, figsize=(15, 15))\n",
        "axes[0].imshow(img_test[im_id])\n",
        "axes[1].imshow(pred[im_id, ..., 0] > 0.5)\n",
        "axes[2].imshow(mask_test[im_id, ..., 0])\n",
        "plt.show()"
      ],
      "execution_count": null,
      "outputs": [
        {
          "output_type": "display_data",
          "data": {
            "text/plain": [
              "<Figure size 1080x1080 with 3 Axes>"
            ],
            "image/png": "[encoded data removed]"
          },
          "metadata": {
            "needs_background": "light"
          }
        }
      ]
    },
    {
      "cell_type": "code",
      "source": [
        "pred_round = np.round(pred)\n",
        "pred_pixels = pred_round.reshape(pred.shape[0], -1).sum(axis = 1)\n",
        "\n",
        "intersection = np.multiply(pred_round, mask_test).reshape(pred.shape[0], -1)\n",
        "intersection = intersection.sum(axis = 1)\n",
        "\n",
        "mask_pixels = mask_test.reshape(mask_test.shape[0], -1)\n",
        "mask_pixels = mask_pixels.sum(axis = 1)\n",
        "\n",
        "dice = 2*intersection/(mask_pixels+pred_pixels)\n",
        "print(\"Dice: \", dice.mean())\n"
      ],
      "metadata": {
        "colab": {
          "base_uri": "https://localhost:8080/"
        },
        "id": "UqftlkAjgQUB",
        "outputId": "ea280db9-59f2-4927-d0e0-28ca1cc3f738"
      },
      "execution_count": null,
      "outputs": [
        {
          "output_type": "stream",
          "name": "stdout",
          "text": [
            "Dice:  0.8918817448263723\n"
          ]
        }
      ]
    },
    {
      "cell_type": "code",
      "source": [],
      "metadata": {
        "id": "k1oAYoj4I133",
        "colab": {
          "base_uri": "https://localhost:8080/"
        },
        "outputId": "23d70bac-3c7f-4b66-a8a0-095e0c93c83e"
      },
      "execution_count": null,
      "outputs": [
        {
          "output_type": "execute_result",
          "data": {
            "text/plain": [
              "array([3984., 5079., 5212., 6815., 4174., 5519., 7960., 6876., 6698.,\n",
              "       6673., 5888., 3918., 5971., 6028., 5309., 5601., 4415., 4311.,\n",
              "       3916., 3979., 5456., 6116., 5381., 4239., 9412., 7636., 4174.,\n",
              "       9412., 7567., 4760., 5985., 6164., 3866., 5410., 5443., 5381.,\n",
              "       5345., 5220., 4857., 5257., 7282., 4174., 6873., 2623., 5460.,\n",
              "       9767., 5220., 5519., 6760., 5079., 7282., 6175., 6617., 5389.,\n",
              "       5116., 6174., 5500., 6272., 7642., 6324., 7408., 3973., 5653.,\n",
              "       2350., 5426., 4239., 5984., 3916., 5644., 3945., 5389., 6272.,\n",
              "       6673., 3883., 3866., 2608., 3887., 5408., 6876., 5918., 3904.,\n",
              "       6164., 2350., 5621., 5454., 5644., 6298., 5454., 7636., 3950.,\n",
              "       5079., 5123., 5145., 6138., 4162., 7369., 6138., 5212., 5905.,\n",
              "       7282., 6203., 7636., 7073., 3950., 6174., 6248., 6695., 3941.,\n",
              "       6865., 7305., 7636., 5079., 5905., 5451., 6695., 5719., 5924.,\n",
              "       5846., 5344., 3888., 6315., 5125., 4231., 2608., 5249., 3895.,\n",
              "       3973., 3887., 6272., 5621., 7707., 3841., 5454., 5519., 5939.,\n",
              "       6673., 5500., 5408., 6695., 5426., 4857., 5534., 4289., 6262.,\n",
              "       7073., 5145., 4162., 5424., 5125., 3883., 7408., 7960., 4323.,\n",
              "       5392., 3941., 4174., 5833., 5443., 7073., 5125., 6278., 5519.,\n",
              "       6315., 6268., 5736., 7210., 6551., 6850., 5392., 5939., 6919.,\n",
              "       4309., 7090., 6560., 5534., 8130., 9415., 4290., 5601., 6831.,\n",
              "       5985., 6298., 5156., 6760., 6817., 4345., 3895., 5249., 6850.,\n",
              "       4478., 6617., 6919., 5846., 6698., 6831., 6760., 6252., 5381.,\n",
              "       8195., 7697.], dtype=float32)"
            ]
          },
          "metadata": {},
          "execution_count": 205
        }
      ]
    },
    {
      "cell_type": "code",
      "source": [],
      "metadata": {
        "id": "6K-ibt2MlSBU"
      },
      "execution_count": null,
      "outputs": []
    }
  ]
}