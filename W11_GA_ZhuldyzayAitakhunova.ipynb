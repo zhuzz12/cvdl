{
  "cells": [
    {
      "cell_type": "markdown",
      "metadata": {
        "id": "view-in-github",
        "colab_type": "text"
      },
      "source": [
        "<a href=\"https://colab.research.google.com/github/zhuzz12/cvdl/blob/main/W11_GA_ZhuldyzayAitakhunova.ipynb\" target=\"_parent\"><img src=\"https://colab.research.google.com/assets/colab-badge.svg\" alt=\"Open In Colab\"/></a>"
      ]
    },
    {
      "cell_type": "code",
      "execution_count": null,
      "id": "00477557",
      "metadata": {
        "id": "00477557"
      },
      "outputs": [],
      "source": []
    },
    {
      "cell_type": "markdown",
      "source": [
        "# 1. GA with one point crossover"
      ],
      "metadata": {
        "id": "47HInweMpQO0"
      },
      "id": "47HInweMpQO0"
    },
    {
      "cell_type": "code",
      "execution_count": null,
      "id": "e7f75f6b",
      "metadata": {
        "id": "e7f75f6b",
        "outputId": "d63f0670-e54b-47b0-a92d-1e283cc941a5",
        "colab": {
          "base_uri": "https://localhost:8080/"
        }
      },
      "outputs": [
        {
          "output_type": "stream",
          "name": "stdout",
          "text": [
            ">0, new best f([1, 1, 0, 0, 0, 1, 0, 0, 1, 0, 0, 0, 1, 1, 0, 1, 1, 1, 0, 1]) = -10.000\n",
            ">0, new best f([0, 1, 1, 0, 1, 0, 1, 1, 1, 0, 1, 0, 0, 0, 0, 1, 1, 1, 1, 0]) = -11.000\n",
            ">0, new best f([0, 1, 1, 1, 1, 1, 1, 0, 1, 0, 1, 1, 0, 0, 0, 0, 1, 0, 1, 1]) = -12.000\n",
            ">1, new best f([0, 1, 1, 1, 1, 1, 1, 0, 1, 0, 1, 1, 0, 0, 0, 1, 1, 0, 1, 1]) = -13.000\n",
            ">2, new best f([1, 1, 1, 0, 1, 1, 1, 1, 1, 0, 1, 1, 0, 1, 1, 1, 0, 0, 1, 1]) = -15.000\n",
            ">4, new best f([1, 1, 1, 0, 1, 1, 1, 1, 1, 0, 1, 1, 0, 1, 1, 1, 1, 0, 1, 1]) = -16.000\n",
            ">8, new best f([1, 1, 1, 1, 0, 1, 1, 1, 1, 1, 1, 1, 0, 1, 1, 1, 1, 1, 1, 0]) = -17.000\n",
            ">9, new best f([1, 1, 1, 1, 0, 1, 1, 1, 1, 0, 1, 1, 1, 1, 1, 1, 1, 1, 1, 1]) = -18.000\n",
            ">11, new best f([1, 1, 1, 1, 0, 1, 1, 1, 1, 1, 1, 1, 1, 1, 1, 1, 1, 1, 1, 1]) = -19.000\n",
            ">21, new best f([1, 1, 1, 1, 1, 1, 1, 1, 1, 1, 1, 1, 1, 1, 1, 1, 1, 1, 1, 1]) = -20.000\n",
            "Done!\n",
            "f([1, 1, 1, 1, 1, 1, 1, 1, 1, 1, 1, 1, 1, 1, 1, 1, 1, 1, 1, 1]) = -20.000000\n"
          ]
        }
      ],
      "source": [
        "# genetic algorithm search of the one max optimization problem\n",
        "from numpy.random import randint\n",
        "from numpy.random import rand\n",
        "\n",
        "# objective function\n",
        "def onemax(x):\n",
        "    return -sum(x)\n",
        "\n",
        "# tournament selection\n",
        "def selection(pop, scores, k=3):\n",
        "    # first random selection\n",
        "    selection_ix = randint(len(pop))\n",
        "    for ix in randint(0, len(pop), k-1):\n",
        "        # check if better (e.g. perform a tournament)\n",
        "        if scores[ix] < scores[selection_ix]:\n",
        "            selection_ix = ix\n",
        "    return pop[selection_ix]\n",
        "\n",
        "# crossover two parents to create two children\n",
        "def crossover(p1, p2, r_cross):\n",
        "    # children are copies of parents by default\n",
        "    c1, c2 = p1.copy(), p2.copy()\n",
        "    # check for recombination\n",
        "    if rand() < r_cross:\n",
        "        # select crossover point that is not on the end of the string\n",
        "        pt = randint(1, len(p1)-2)\n",
        "        # perform crossover\n",
        "        c1 = p1[:pt] + p2[pt:]\n",
        "        c2 = p2[:pt] + p1[pt:]\n",
        "    return [c1, c2]\n",
        "\n",
        "# mutation operator\n",
        "def mutation(bitstring, r_mut):\n",
        "    for i in range(len(bitstring)):\n",
        "        # check for a mutation\n",
        "        if rand() < r_mut:\n",
        "            # flip the bit\n",
        "            bitstring[i] = 1 - bitstring[i]\n",
        "\n",
        "# genetic algorithm\n",
        "def genetic_algorithm(objective, n_bits, n_iter, n_pop, r_cross, r_mut):\n",
        "    # initial population of random bitstring\n",
        "    pop = [randint(0, 2, n_bits).tolist() for _ in range(n_pop)]\n",
        "    # keep track of best solution\n",
        "    best, best_eval = pop[0], objective(pop[0])\n",
        "    # enumerate generations\n",
        "    for gen in range(n_iter):\n",
        "        # evaluate all candidates in the population\n",
        "        scores = [objective(c) for c in pop]\n",
        "        # check for new best solution\n",
        "        for i in range(n_pop):\n",
        "            if scores[i] < best_eval:\n",
        "                best, best_eval = pop[i], scores[i]\n",
        "                print(\">%d, new best f(%s) = %.3f\" % (gen,  pop[i], scores[i]))\n",
        "        # select parents\n",
        "        selected = [selection(pop, scores) for _ in range(n_pop)]\n",
        "        # create the next generation\n",
        "        children = list()\n",
        "        for i in range(0, n_pop, 2):\n",
        "            # get selected parents in pairs\n",
        "            p1, p2 = selected[i], selected[i+1]\n",
        "            # crossover and mutation\n",
        "            for c in crossover(p1, p2, r_cross):\n",
        "                # mutation\n",
        "                mutation(c, r_mut)\n",
        "                # store for next generation\n",
        "                children.append(c)\n",
        "        # replace population\n",
        "        pop = children\n",
        "    return [best, best_eval]\n",
        "\n",
        "# define the total iterations\n",
        "n_iter = 100\n",
        "# bits\n",
        "n_bits = 20\n",
        "# define the population size\n",
        "n_pop = 10\n",
        "# crossover rate\n",
        "r_cross = 0.9\n",
        "# mutation rate\n",
        "r_mut = 1.0 / float(n_bits)\n",
        "# perform the genetic algorithm search\n",
        "best, score = genetic_algorithm(onemax, n_bits, n_iter, n_pop, r_cross, r_mut)\n",
        "print('Done!')\n",
        "print('f(%s) = %f' % (best, score))\n"
      ]
    },
    {
      "cell_type": "markdown",
      "source": [
        "# 2. GA with Multipoint Crossover\n"
      ],
      "metadata": {
        "id": "gIKRTrALqVH0"
      },
      "id": "gIKRTrALqVH0"
    },
    {
      "cell_type": "code",
      "execution_count": null,
      "id": "2d679030",
      "metadata": {
        "id": "2d679030",
        "colab": {
          "base_uri": "https://localhost:8080/"
        },
        "outputId": "c213efa7-5a8d-4cd9-d671-de6918282cf0"
      },
      "outputs": [
        {
          "output_type": "stream",
          "name": "stdout",
          "text": [
            ">0, new best f([1, 0, 0, 1, 1, 1, 1, 0, 0, 1, 1, 1, 1, 1, 1, 1, 1, 1, 0, 0]) = -14.000\n",
            ">1, new best f([1, 1, 0, 1, 1, 1, 1, 0, 0, 1, 1, 1, 1, 1, 1, 1, 1, 1, 1, 1]) = -17.000\n",
            ">4, new best f([1, 1, 1, 1, 1, 1, 1, 0, 0, 1, 1, 1, 1, 1, 1, 1, 1, 1, 1, 1]) = -18.000\n",
            ">19, new best f([1, 1, 1, 1, 1, 1, 1, 1, 1, 1, 1, 1, 1, 1, 1, 1, 1, 1, 1, 1]) = -20.000\n",
            "Done!\n",
            "f([1, 1, 1, 1, 1, 1, 1, 1, 1, 1, 1, 1, 1, 1, 1, 1, 1, 1, 1, 1]) = -20.000000\n"
          ]
        }
      ],
      "source": [
        "# genetic algorithm search of the one max optimization problem\n",
        "from numpy.random import randint\n",
        "from numpy.random import rand\n",
        "from numpy.random import choice\n",
        "import numpy as np\n",
        "\n",
        "\n",
        "\n",
        "# objective function\n",
        "def onemax(x):\n",
        "    return -sum(x)\n",
        "\n",
        "# tournament selection\n",
        "def selection(pop, scores, k=3):\n",
        "    # first random selection\n",
        "    selection_ix = randint(len(pop))\n",
        "    for ix in randint(0, len(pop), k-1):\n",
        "        # check if better (e.g. perform a tournament)\n",
        "        if scores[ix] < scores[selection_ix]:\n",
        "            selection_ix = ix\n",
        "    return pop[selection_ix]\n",
        "\n",
        "# crossover two parents to create two children\n",
        "# uniform crossover\n",
        "def crossover(p1, p2, r_cross, num_points):\n",
        "    # children are copies of parents by default\n",
        "    c1, c2 = p1.copy(), p2.copy()\n",
        "    # check for recombination\n",
        "    if rand() < r_cross:\n",
        "        c1 = []\n",
        "        c2 = []\n",
        "        # select crossover point that is not on the end of the string\n",
        "        pts = np.sort(choice(range(1, len(p1)-1), size = num_points, replace = False))\n",
        "        pts = np.concatenate((np.array([0]), pts, np.array([len(p1)])))\n",
        "        for i in range(1, len(pts), 2): \n",
        "            if (i == (len(pts)-1)): \n",
        "                c1 = c1 + p1[pts[i-1]:pts[i]]\n",
        "                c2 = c2 + p2[pts[i-1]:pts[i]]\n",
        "            else:\n",
        "                c1 = c1 + p1[pts[i-1]:pts[i]] + p2[pts[i]:pts[i+1]]\n",
        "                c2 = c2 + p2[pts[i-1]:pts[i]] + p1[pts[i]:pts[i+1]]      \n",
        "    return [c1, c2]\n",
        "\n",
        "# mutation operator\n",
        "def mutation(bitstring, r_mut):\n",
        "    for i in range(len(bitstring)):\n",
        "        # check for a mutation\n",
        "        if rand() < r_mut:\n",
        "            # flip the bit\n",
        "            bitstring[i] = 1 - bitstring[i]\n",
        "\n",
        "# genetic algorithm\n",
        "def genetic_algorithm(objective, n_bits, n_iter, n_pop, r_cross, r_mut):\n",
        "    # initial population of random bitstring\n",
        "    pop = [randint(0, 2, n_bits).tolist() for _ in range(n_pop)]\n",
        "    # keep track of best solution\n",
        "    best, best_eval = pop[0], objective(pop[0])\n",
        "    # enumerate generations\n",
        "    for gen in range(n_iter):\n",
        "        # evaluate all candidates in the population\n",
        "        scores = [objective(c) for c in pop]\n",
        "        # check for new best solution\n",
        "        for i in range(n_pop):\n",
        "            if scores[i] < best_eval:\n",
        "                best, best_eval = pop[i], scores[i]\n",
        "                print(\">%d, new best f(%s) = %.3f\" % (gen,  pop[i], scores[i]))\n",
        "        # select parents\n",
        "        selected = [selection(pop, scores) for _ in range(n_pop)]\n",
        "        # create the next generation\n",
        "        children = list()\n",
        "        for i in range(0, n_pop, 2):\n",
        "            # get selected parents in pairs\n",
        "            p1, p2 = selected[i], selected[i+1]\n",
        "            # crossover and mutation\n",
        "            for c in crossover(p1, p2, r_cross, 2):\n",
        "                # mutation\n",
        "                mutation(c, r_mut)\n",
        "                # store for next generation\n",
        "                children.append(c)\n",
        "        # replace population\n",
        "        pop = children\n",
        "    return [best, best_eval]\n",
        "\n",
        "# define the total iterations\n",
        "n_iter = 100\n",
        "# bits\n",
        "n_bits = 20\n",
        "# define the population size\n",
        "n_pop = 10\n",
        "# crossover rate\n",
        "r_cross = 0.9\n",
        "# mutation rate\n",
        "r_mut = 1.0 / float(n_bits)\n",
        "# perform the genetic algorithm search\n",
        "best, score = genetic_algorithm(onemax, n_bits, n_iter, n_pop, r_cross, r_mut)\n",
        "print('Done!')\n",
        "print('f(%s) = %f' % (best, score))"
      ]
    },
    {
      "cell_type": "code",
      "source": [],
      "metadata": {
        "id": "nnUqnTrbtOzM"
      },
      "id": "nnUqnTrbtOzM",
      "execution_count": null,
      "outputs": []
    }
  ],
  "metadata": {
    "kernelspec": {
      "display_name": "Python 3 (ipykernel)",
      "language": "python",
      "name": "python3"
    },
    "language_info": {
      "codemirror_mode": {
        "name": "ipython",
        "version": 3
      },
      "file_extension": ".py",
      "mimetype": "text/x-python",
      "name": "python",
      "nbconvert_exporter": "python",
      "pygments_lexer": "ipython3",
      "version": "3.9.13"
    },
    "colab": {
      "provenance": [],
      "include_colab_link": true
    }
  },
  "nbformat": 4,
  "nbformat_minor": 5
}